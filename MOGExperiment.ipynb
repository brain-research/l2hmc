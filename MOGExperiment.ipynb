{
 "cells": [
  {
   "cell_type": "markdown",
   "metadata": {},
   "source": [
    "# Mixture of Gaussians experiment using L2HMC"
   ]
  },
  {
   "cell_type": "markdown",
   "metadata": {},
   "source": [
    "## Imports"
   ]
  },
  {
   "cell_type": "code",
   "execution_count": 1,
   "metadata": {
    "ExecuteTime": {
     "end_time": "2018-06-19T15:57:52.967243Z",
     "start_time": "2018-06-19T15:57:50.570380Z"
    }
   },
   "outputs": [
    {
     "name": "stdout",
     "output_type": "stream",
     "text": [
      "The autoreload extension is already loaded. To reload it, use:\n",
      "  %reload_ext autoreload\n"
     ]
    }
   ],
   "source": [
    "import tensorflow as tf\n",
    "import numpy as np\n",
    "import matplotlib.pyplot as plt\n",
    "import time\n",
    "import os\n",
    "%matplotlib notebook\n",
    "%load_ext autoreload\n",
    "%autoreload 2"
   ]
  },
  {
   "cell_type": "code",
   "execution_count": 2,
   "metadata": {
    "ExecuteTime": {
     "end_time": "2018-06-19T15:57:53.015119Z",
     "start_time": "2018-06-19T15:57:52.969669Z"
    }
   },
   "outputs": [],
   "source": [
    "#import matplotlib.pyplot as plt\n",
    "from mpl_toolkits.mplot3d import Axes3D"
   ]
  },
  {
   "cell_type": "code",
   "execution_count": 3,
   "metadata": {
    "ExecuteTime": {
     "end_time": "2018-06-19T15:57:54.269309Z",
     "start_time": "2018-06-19T15:57:53.017860Z"
    }
   },
   "outputs": [],
   "source": [
    "from utils.func_utils import accept, jacobian, autocovariance, get_log_likelihood, \\\n",
    "    get_data, binarize, normal_kl, acl_spectrum, ESS\n",
    "from utils.distributions import Gaussian, GMM, GaussianFunnel, gen_ring\n",
    "from utils.layers import Linear, Sequential, Zip, Parallel, ScaleTanh\n",
    "from utils.dynamics import Dynamics\n",
    "from utils.sampler import propose\n",
    "from utils.notebook_utils import get_hmc_samples\n",
    "from utils.logging import variable_summaries"
   ]
  },
  {
   "cell_type": "code",
   "execution_count": 1,
   "metadata": {
    "ExecuteTime": {
     "end_time": "2018-06-19T18:41:52.067644Z",
     "start_time": "2018-06-19T18:41:52.012442Z"
    },
    "code_folding": [
     13,
     14,
     16,
     20,
     22
    ],
    "run_control": {
     "marked": true
    }
   },
   "outputs": [],
   "source": [
    "def get_run_num(log_dir):\n",
    "    if not os.path.isdir(log_dir):\n",
    "        os.makedirs(log_dir)\n",
    "    run_dirs = []\n",
    "    contents = os.listdir(log_dir)\n",
    "    if contents == ['.DS_Store']:\n",
    "        return 1\n",
    "    else:\n",
    "        for item in contents:\n",
    "            if os.path.isdir(log_dir + item):\n",
    "                run_dirs.append(item)\n",
    "        run_nums = [int(str(i)[3:]) for i in run_dirs]\n",
    "        prev_run_num = max(run_nums)\n",
    "        return prev_run_num + 1\n",
    "\n",
    "def make_run_dir(log_dir):\n",
    "    if log_dir.endswith('/'):\n",
    "        _dir = log_dir\n",
    "    else:\n",
    "        _dir = log_dir + '/'\n",
    "    run_num = get_run_num(_dir)\n",
    "    run_dir = _dir + f'run{run_num}/'\n",
    "    if os.path.isdir(run_dir):\n",
    "        raise f'Directory: {run_dir} already exists, exiting!'\n",
    "    else:\n",
    "        print(f'Creating directory for new run: {run_dir}')\n",
    "        os.makedirs(run_dir)\n",
    "    return run_dir"
   ]
  },
  {
   "cell_type": "code",
   "execution_count": 5,
   "metadata": {
    "ExecuteTime": {
     "end_time": "2018-06-19T15:57:54.381663Z",
     "start_time": "2018-06-19T15:57:54.338141Z"
    }
   },
   "outputs": [
    {
     "name": "stdout",
     "output_type": "stream",
     "text": [
      "Creating directory for new run: ./log_mog_tf/run22/\n"
     ]
    }
   ],
   "source": [
    "root_log_dir = './log_mog_tf/'\n",
    "log_dir = make_run_dir(root_log_dir)"
   ]
  },
  {
   "cell_type": "markdown",
   "metadata": {},
   "source": [
    "## Network architecture\n",
    "\n",
    "We define the network architecture for our L2HMC network. We first embed the first two variables ($\\{x, \\partial_x U\\}$ or $\\{v, x_m\\}$) as well as the time, formatted as $\\tau(t) = \\left(\\cos(\\frac{2\\pi t}{M}), \\sin(\\frac{2\\pi t}{M})\\right)$. They are forwarded through an MLP and then produce $S, T$ and $Q$."
   ]
  },
  {
   "cell_type": "code",
   "execution_count": 6,
   "metadata": {
    "ExecuteTime": {
     "end_time": "2018-06-19T15:57:54.441507Z",
     "start_time": "2018-06-19T15:57:54.383272Z"
    },
    "run_control": {
     "marked": true
    }
   },
   "outputs": [],
   "source": [
    "def network(x_dim, scope, factor):\n",
    "    with tf.variable_scope(scope):\n",
    "        net = Sequential([\n",
    "            Zip([\n",
    "                Linear(x_dim, 10, scope='embed_1', factor=1.0 / 3),\n",
    "                Linear(x_dim, 10, scope='embed_2', factor=factor * 1.0 / 3),\n",
    "                Linear(2, 10, scope='embed_3', factor=1.0 / 3),\n",
    "                lambda _: 0.,\n",
    "            ]),\n",
    "            sum,\n",
    "            tf.nn.relu,\n",
    "            Linear(10, 10, scope='linear_1'),\n",
    "            tf.nn.relu,\n",
    "            Parallel([\n",
    "                Sequential([\n",
    "                    Linear(10, x_dim, scope='linear_s', factor=0.001), \n",
    "                    ScaleTanh(x_dim, scope='scale_s')\n",
    "                ]),\n",
    "                Linear(10, x_dim, scope='linear_t', factor=0.001),\n",
    "                Sequential([\n",
    "                    Linear(10, x_dim, scope='linear_f', factor=0.001),\n",
    "                    ScaleTanh(x_dim, scope='scale_f'),\n",
    "                ])\n",
    "            ])  \n",
    "        ])\n",
    "        \n",
    "    return net"
   ]
  },
  {
   "cell_type": "markdown",
   "metadata": {},
   "source": [
    "## Distribution\n",
    "\n",
    "We set up our dynamics which take as input our energy function, the number of time step of our operator, the (learnable) step-size and our architecture."
   ]
  },
  {
   "cell_type": "code",
   "execution_count": 7,
   "metadata": {
    "ExecuteTime": {
     "end_time": "2018-06-19T15:57:54.516854Z",
     "start_time": "2018-06-19T15:57:54.443535Z"
    }
   },
   "outputs": [],
   "source": [
    "x_dim = 2\n",
    "means = [np.array([-4.0, 0.0]).astype(np.float32),\n",
    "         np.array([4.0, 0.0]).astype(np.float32)]\n",
    "covs = [np.array([[0.1, 0.0], [0.0, 0.1]]).astype(np.float32),\n",
    "        np.array([[0.1, 0.0], [0.0, 0.1]]).astype(np.float32)]\n",
    "distribution = GMM(means, covs, [0.5, 0.5])\n",
    "# Get some samples from the true distribution for debugging\n",
    "init_samples = distribution.get_samples(1000)\n",
    "np.save('init_samples', init_samples)"
   ]
  },
  {
   "cell_type": "code",
   "execution_count": 9,
   "metadata": {
    "ExecuteTime": {
     "end_time": "2018-06-19T15:57:56.073530Z",
     "start_time": "2018-06-19T15:57:54.637473Z"
    }
   },
   "outputs": [],
   "source": [
    "dynamics = Dynamics(x_dim, distribution.get_energy_function(), \n",
    "                    T=10, eps=0.1, net_factory=network, use_temperature=True)"
   ]
  },
  {
   "cell_type": "code",
   "execution_count": 10,
   "metadata": {
    "ExecuteTime": {
     "end_time": "2018-06-19T15:58:00.673513Z",
     "start_time": "2018-06-19T15:57:56.075291Z"
    }
   },
   "outputs": [
    {
     "data": {
      "text/plain": [
       "<tf.Tensor 'loss:0' shape=() dtype=string>"
      ]
     },
     "execution_count": 10,
     "metadata": {},
     "output_type": "execute_result"
    }
   ],
   "source": [
    "x = tf.placeholder(tf.float32, shape=(None, x_dim))\n",
    "z = tf.random_normal(tf.shape(x))\n",
    "\n",
    "Lx, _, px, output = propose(x, dynamics, do_mh_step=True)\n",
    "Lz, _, pz, _ = propose(z, dynamics, do_mh_step=False)\n",
    "\n",
    "loss = 0.\n",
    "\n",
    "v1 = (tf.reduce_sum(tf.square(x - Lx), axis=1) * px) + 1e-4\n",
    "v2 = (tf.reduce_sum(tf.square(z - Lz), axis=1) * pz) + 1e-4\n",
    "scale = 0.2\n",
    "loss += scale * (tf.reduce_mean(1.0 / v1) + tf.reduce_mean(1.0 / v2))\n",
    "loss += (- tf.reduce_mean(v1, name='v1') \n",
    "         - tf.reduce_mean(v2, name='v2')) / scale\n",
    "tf.summary.scalar('loss', loss)"
   ]
  },
  {
   "cell_type": "code",
   "execution_count": 11,
   "metadata": {
    "ExecuteTime": {
     "end_time": "2018-06-19T15:58:30.771556Z",
     "start_time": "2018-06-19T15:58:00.675358Z"
    }
   },
   "outputs": [],
   "source": [
    "global_step = tf.Variable(0., name='global_step', trainable=False)\n",
    "learning_rate = tf.train.exponential_decay(1e-3, global_step, 1000, 0.96, \n",
    "                                           staircase=True)\n",
    "with tf.name_scope('train'):\n",
    "    optimizer = tf.train.AdamOptimizer(learning_rate=learning_rate)\n",
    "    train_op = optimizer.minimize(loss, global_step=global_step)"
   ]
  },
  {
   "cell_type": "code",
   "execution_count": 12,
   "metadata": {
    "ExecuteTime": {
     "end_time": "2018-06-19T15:58:30.836517Z",
     "start_time": "2018-06-19T15:58:30.773079Z"
    }
   },
   "outputs": [],
   "source": [
    "n_steps = 20000\n",
    "n_samples = 200\n",
    "losses = []\n",
    "samples = np.random.randn(n_samples, x_dim)"
   ]
  },
  {
   "cell_type": "code",
   "execution_count": 13,
   "metadata": {
    "ExecuteTime": {
     "end_time": "2018-06-19T15:59:19.665188Z",
     "start_time": "2018-06-19T15:58:30.838421Z"
    }
   },
   "outputs": [],
   "source": [
    "summary = tf.summary.merge_all()\n",
    "init = tf.global_variables_initializer()\n",
    "saver = tf.train.Saver()\n",
    "sess = tf.Session()\n",
    "summary_writer = tf.summary.FileWriter(log_dir, sess.graph)\n",
    "sess.run(init)\n",
    "temp = 40  # Initial temperature to be used in annealing schedule"
   ]
  },
  {
   "cell_type": "code",
   "execution_count": 20,
   "metadata": {
    "ExecuteTime": {
     "end_time": "2018-06-19T16:36:14.658543Z",
     "start_time": "2018-06-19T16:20:19.460511Z"
    }
   },
   "outputs": [
    {
     "name": "stdout",
     "output_type": "stream",
     "text": [
      "Step: 5001.0 / 20000, Loss: -4.9086e+02, Acceptance sample: 0.81, LR: 0.00082, temp: 24.13859\n",
      "Saving checkpoint to: ./log_mog_tf/run22/model.ckpt\n"
     ]
    },
    {
     "data": {
      "text/plain": [
       "'./log_mog_tf/run22/model.ckpt'"
      ]
     },
     "execution_count": 20,
     "metadata": {},
     "output_type": "execute_result"
    },
    {
     "name": "stdout",
     "output_type": "stream",
     "text": [
      "Step: 5051.0 / 20000, Loss: -4.8135e+02, Acceptance sample: 0.80, LR: 0.00082, temp: 23.65582\n",
      "Step: 5101.0 / 20000, Loss: -4.8265e+02, Acceptance sample: 0.81, LR: 0.00082, temp: 23.65582\n",
      "Step: 5151.0 / 20000, Loss: -5.1289e+02, Acceptance sample: 0.85, LR: 0.00082, temp: 23.65582\n",
      "Step: 5201.0 / 20000, Loss: -5.3718e+02, Acceptance sample: 0.86, LR: 0.00082, temp: 23.65582\n",
      "Step: 5251.0 / 20000, Loss: -4.8589e+02, Acceptance sample: 0.85, LR: 0.00082, temp: 23.18270\n",
      "Step: 5301.0 / 20000, Loss: -4.6896e+02, Acceptance sample: 0.74, LR: 0.00082, temp: 23.18270\n",
      "Step: 5351.0 / 20000, Loss: -4.7361e+02, Acceptance sample: 0.80, LR: 0.00082, temp: 23.18270\n",
      "Step: 5401.0 / 20000, Loss: -4.8573e+02, Acceptance sample: 0.80, LR: 0.00082, temp: 23.18270\n",
      "Step: 5451.0 / 20000, Loss: -5.1718e+02, Acceptance sample: 0.85, LR: 0.00082, temp: 22.71905\n",
      "Step: 5501.0 / 20000, Loss: -5.0422e+02, Acceptance sample: 0.82, LR: 0.00082, temp: 22.71905\n",
      "Step: 5551.0 / 20000, Loss: -5.0567e+02, Acceptance sample: 0.84, LR: 0.00082, temp: 22.71905\n",
      "Step: 5601.0 / 20000, Loss: -5.1934e+02, Acceptance sample: 0.85, LR: 0.00082, temp: 22.71905\n",
      "Step: 5651.0 / 20000, Loss: -5.1313e+02, Acceptance sample: 0.85, LR: 0.00082, temp: 22.26467\n",
      "Step: 5701.0 / 20000, Loss: -5.0026e+02, Acceptance sample: 0.84, LR: 0.00082, temp: 22.26467\n",
      "Step: 5751.0 / 20000, Loss: -5.2060e+02, Acceptance sample: 0.82, LR: 0.00082, temp: 22.26467\n",
      "Step: 5801.0 / 20000, Loss: -5.2937e+02, Acceptance sample: 0.83, LR: 0.00082, temp: 22.26467\n",
      "Step: 5851.0 / 20000, Loss: -5.2866e+02, Acceptance sample: 0.88, LR: 0.00082, temp: 21.81937\n",
      "Step: 5901.0 / 20000, Loss: -5.1537e+02, Acceptance sample: 0.86, LR: 0.00082, temp: 21.81937\n",
      "Step: 5951.0 / 20000, Loss: -4.9827e+02, Acceptance sample: 0.85, LR: 0.00082, temp: 21.81937\n",
      "Step: 6001.0 / 20000, Loss: -5.0982e+02, Acceptance sample: 0.84, LR: 0.00078, temp: 21.81937\n",
      "Step: 6051.0 / 20000, Loss: -5.1991e+02, Acceptance sample: 0.84, LR: 0.00078, temp: 21.38299\n",
      "Step: 6101.0 / 20000, Loss: -5.2308e+02, Acceptance sample: 0.84, LR: 0.00078, temp: 21.38299\n",
      "Step: 6151.0 / 20000, Loss: -4.9470e+02, Acceptance sample: 0.84, LR: 0.00078, temp: 21.38299\n",
      "Step: 6201.0 / 20000, Loss: -4.9144e+02, Acceptance sample: 0.83, LR: 0.00078, temp: 21.38299\n",
      "Step: 6251.0 / 20000, Loss: -5.5386e+02, Acceptance sample: 0.87, LR: 0.00078, temp: 20.95533\n",
      "Step: 6301.0 / 20000, Loss: -3.5864e+02, Acceptance sample: 0.58, LR: 0.00078, temp: 20.95533\n",
      "Step: 6351.0 / 20000, Loss: -4.7259e+02, Acceptance sample: 0.76, LR: 0.00078, temp: 20.95533\n",
      "Step: 6401.0 / 20000, Loss: -4.8844e+02, Acceptance sample: 0.81, LR: 0.00078, temp: 20.95533\n",
      "Step: 6451.0 / 20000, Loss: -4.9762e+02, Acceptance sample: 0.83, LR: 0.00078, temp: 20.53622\n",
      "Step: 6501.0 / 20000, Loss: -4.8531e+02, Acceptance sample: 0.84, LR: 0.00078, temp: 20.53622\n",
      "Step: 6551.0 / 20000, Loss: -5.2925e+02, Acceptance sample: 0.86, LR: 0.00078, temp: 20.53622\n",
      "Step: 6601.0 / 20000, Loss: -5.2964e+02, Acceptance sample: 0.81, LR: 0.00078, temp: 20.53622\n",
      "Step: 6651.0 / 20000, Loss: -4.9879e+02, Acceptance sample: 0.85, LR: 0.00078, temp: 20.12549\n",
      "Step: 6701.0 / 20000, Loss: -4.9726e+02, Acceptance sample: 0.81, LR: 0.00078, temp: 20.12549\n",
      "Step: 6751.0 / 20000, Loss: -5.2683e+02, Acceptance sample: 0.84, LR: 0.00078, temp: 20.12549\n",
      "Step: 6801.0 / 20000, Loss: -4.8218e+02, Acceptance sample: 0.82, LR: 0.00078, temp: 20.12549\n",
      "Step: 6851.0 / 20000, Loss: -5.6190e+02, Acceptance sample: 0.88, LR: 0.00078, temp: 19.72298\n",
      "Step: 6901.0 / 20000, Loss: -5.0459e+02, Acceptance sample: 0.84, LR: 0.00078, temp: 19.72298\n",
      "Step: 6951.0 / 20000, Loss: -5.1540e+02, Acceptance sample: 0.86, LR: 0.00078, temp: 19.72298\n",
      "Step: 7001.0 / 20000, Loss: -5.0730e+02, Acceptance sample: 0.82, LR: 0.00075, temp: 19.72298\n",
      "Step: 7051.0 / 20000, Loss: -4.9407e+02, Acceptance sample: 0.83, LR: 0.00075, temp: 19.32853\n",
      "Step: 7101.0 / 20000, Loss: -5.0638e+02, Acceptance sample: 0.85, LR: 0.00075, temp: 19.32853\n",
      "Step: 7151.0 / 20000, Loss: -5.0305e+02, Acceptance sample: 0.89, LR: 0.00075, temp: 19.32853\n",
      "Step: 7201.0 / 20000, Loss: -4.2270e+02, Acceptance sample: 0.71, LR: 0.00075, temp: 19.32853\n",
      "Step: 7251.0 / 20000, Loss: -4.6039e+02, Acceptance sample: 0.77, LR: 0.00075, temp: 18.94195\n",
      "Step: 7301.0 / 20000, Loss: -5.0113e+02, Acceptance sample: 0.82, LR: 0.00075, temp: 18.94195\n",
      "Step: 7351.0 / 20000, Loss: -4.8016e+02, Acceptance sample: 0.81, LR: 0.00075, temp: 18.94195\n",
      "Step: 7401.0 / 20000, Loss: -5.1370e+02, Acceptance sample: 0.83, LR: 0.00075, temp: 18.94195\n",
      "Step: 7451.0 / 20000, Loss: -5.1080e+02, Acceptance sample: 0.84, LR: 0.00075, temp: 18.56312\n",
      "Step: 7501.0 / 20000, Loss: -5.1547e+02, Acceptance sample: 0.88, LR: 0.00075, temp: 18.56312\n",
      "Step: 7551.0 / 20000, Loss: -4.8467e+02, Acceptance sample: 0.81, LR: 0.00075, temp: 18.56312\n",
      "Step: 7601.0 / 20000, Loss: -5.1700e+02, Acceptance sample: 0.87, LR: 0.00075, temp: 18.56312\n",
      "Step: 7651.0 / 20000, Loss: -5.1324e+02, Acceptance sample: 0.84, LR: 0.00075, temp: 18.19185\n",
      "Step: 7701.0 / 20000, Loss: -5.2102e+02, Acceptance sample: 0.84, LR: 0.00075, temp: 18.19185\n",
      "Step: 7751.0 / 20000, Loss: -5.1203e+02, Acceptance sample: 0.82, LR: 0.00075, temp: 18.19185\n",
      "Step: 7801.0 / 20000, Loss: -5.1940e+02, Acceptance sample: 0.85, LR: 0.00075, temp: 18.19185\n",
      "Step: 7851.0 / 20000, Loss: -5.3292e+02, Acceptance sample: 0.86, LR: 0.00075, temp: 17.82802\n",
      "Step: 7901.0 / 20000, Loss: -4.8597e+02, Acceptance sample: 0.83, LR: 0.00075, temp: 17.82802\n",
      "Step: 7951.0 / 20000, Loss: -5.1143e+02, Acceptance sample: 0.84, LR: 0.00075, temp: 17.82802\n",
      "Step: 8001.0 / 20000, Loss: -4.9017e+02, Acceptance sample: 0.81, LR: 0.00072, temp: 17.82802\n",
      "Step: 8051.0 / 20000, Loss: -5.0897e+02, Acceptance sample: 0.86, LR: 0.00072, temp: 17.47146\n",
      "Step: 8101.0 / 20000, Loss: -5.2040e+02, Acceptance sample: 0.86, LR: 0.00072, temp: 17.47146\n",
      "Step: 8151.0 / 20000, Loss: -5.2292e+02, Acceptance sample: 0.85, LR: 0.00072, temp: 17.47146\n",
      "Step: 8201.0 / 20000, Loss: -5.0922e+02, Acceptance sample: 0.83, LR: 0.00072, temp: 17.47146\n",
      "Step: 8251.0 / 20000, Loss: -5.0728e+02, Acceptance sample: 0.84, LR: 0.00072, temp: 17.12203\n",
      "Step: 8301.0 / 20000, Loss: -5.2043e+02, Acceptance sample: 0.87, LR: 0.00072, temp: 17.12203\n",
      "Step: 8351.0 / 20000, Loss: -4.8021e+02, Acceptance sample: 0.83, LR: 0.00072, temp: 17.12203\n",
      "Step: 8401.0 / 20000, Loss: -5.0122e+02, Acceptance sample: 0.85, LR: 0.00072, temp: 17.12203\n",
      "Step: 8451.0 / 20000, Loss: -5.0544e+02, Acceptance sample: 0.87, LR: 0.00072, temp: 16.77959\n",
      "Step: 8501.0 / 20000, Loss: -4.9565e+02, Acceptance sample: 0.85, LR: 0.00072, temp: 16.77959\n",
      "Step: 8551.0 / 20000, Loss: -5.2196e+02, Acceptance sample: 0.86, LR: 0.00072, temp: 16.77959\n",
      "Step: 8601.0 / 20000, Loss: -5.1295e+02, Acceptance sample: 0.87, LR: 0.00072, temp: 16.77959\n",
      "Step: 8651.0 / 20000, Loss: -5.2612e+02, Acceptance sample: 0.86, LR: 0.00072, temp: 16.44399\n",
      "Step: 8701.0 / 20000, Loss: -5.2383e+02, Acceptance sample: 0.86, LR: 0.00072, temp: 16.44399\n",
      "Step: 8751.0 / 20000, Loss: -5.1975e+02, Acceptance sample: 0.85, LR: 0.00072, temp: 16.44399\n",
      "Step: 8801.0 / 20000, Loss: -5.1314e+02, Acceptance sample: 0.85, LR: 0.00072, temp: 16.44399\n",
      "Step: 8851.0 / 20000, Loss: -5.1800e+02, Acceptance sample: 0.86, LR: 0.00072, temp: 16.11511\n",
      "Step: 8901.0 / 20000, Loss: -5.2521e+02, Acceptance sample: 0.85, LR: 0.00072, temp: 16.11511\n",
      "Step: 8951.0 / 20000, Loss: -4.9676e+02, Acceptance sample: 0.85, LR: 0.00072, temp: 16.11511\n",
      "Step: 9001.0 / 20000, Loss: -5.2625e+02, Acceptance sample: 0.89, LR: 0.00069, temp: 16.11511\n",
      "Step: 9051.0 / 20000, Loss: -4.8596e+02, Acceptance sample: 0.83, LR: 0.00069, temp: 15.79281\n",
      "Step: 9101.0 / 20000, Loss: -5.0006e+02, Acceptance sample: 0.85, LR: 0.00069, temp: 15.79281\n",
      "Step: 9151.0 / 20000, Loss: -4.8335e+02, Acceptance sample: 0.84, LR: 0.00069, temp: 15.79281\n",
      "Step: 9201.0 / 20000, Loss: -4.3909e+02, Acceptance sample: 0.77, LR: 0.00069, temp: 15.79281\n",
      "Step: 9251.0 / 20000, Loss: -4.6176e+02, Acceptance sample: 0.79, LR: 0.00069, temp: 15.47696\n",
      "Step: 9301.0 / 20000, Loss: -5.0667e+02, Acceptance sample: 0.85, LR: 0.00069, temp: 15.47696\n",
      "Step: 9351.0 / 20000, Loss: -2.9547e+02, Acceptance sample: 0.56, LR: 0.00069, temp: 15.47696\n",
      "Step: 9401.0 / 20000, Loss: -3.8356e+02, Acceptance sample: 0.62, LR: 0.00069, temp: 15.47696\n"
     ]
    },
    {
     "name": "stdout",
     "output_type": "stream",
     "text": [
      "Step: 9451.0 / 20000, Loss: -4.3013e+02, Acceptance sample: 0.74, LR: 0.00069, temp: 15.16742\n",
      "Step: 9501.0 / 20000, Loss: -4.5078e+02, Acceptance sample: 0.73, LR: 0.00069, temp: 15.16742\n",
      "Step: 9551.0 / 20000, Loss: -4.4383e+02, Acceptance sample: 0.74, LR: 0.00069, temp: 15.16742\n",
      "Step: 9601.0 / 20000, Loss: -4.3333e+02, Acceptance sample: 0.75, LR: 0.00069, temp: 15.16742\n",
      "Step: 9651.0 / 20000, Loss: -4.6618e+02, Acceptance sample: 0.81, LR: 0.00069, temp: 14.86407\n",
      "Step: 9701.0 / 20000, Loss: -4.7199e+02, Acceptance sample: 0.79, LR: 0.00069, temp: 14.86407\n",
      "Step: 9751.0 / 20000, Loss: -4.6465e+02, Acceptance sample: 0.78, LR: 0.00069, temp: 14.86407\n",
      "Step: 9801.0 / 20000, Loss: -4.6531e+02, Acceptance sample: 0.77, LR: 0.00069, temp: 14.86407\n",
      "Step: 9851.0 / 20000, Loss: -4.6132e+02, Acceptance sample: 0.80, LR: 0.00069, temp: 14.56679\n",
      "Step: 9901.0 / 20000, Loss: -4.8602e+02, Acceptance sample: 0.84, LR: 0.00069, temp: 14.56679\n",
      "Step: 9951.0 / 20000, Loss: -4.5468e+02, Acceptance sample: 0.79, LR: 0.00069, temp: 14.56679\n",
      "Time to train sampler for 10000 was 955.0440809726715 seconds\n"
     ]
    }
   ],
   "source": [
    "time1 = time.time()\n",
    "\n",
    "for t in range(n_steps//4):\n",
    "    feed_dict = {x: samples, \n",
    "                 dynamics.temperature: temp}\n",
    "    \n",
    "    _, loss_, samples, px_, lr_ = sess.run([\n",
    "        train_op,\n",
    "        loss,\n",
    "        output[0],\n",
    "        px,\n",
    "        learning_rate,\n",
    "    ], feed_dict=feed_dict)\n",
    "    losses.append(loss_)\n",
    "\n",
    "    if t % 50 == 0:\n",
    "        step_num = global_step.eval(session=sess) \n",
    "        summary_str = sess.run(summary, feed_dict=feed_dict)\n",
    "        summary_writer.add_summary(summary_str, step_num)\n",
    "        summary_writer.flush()\n",
    "        print(f'Step: {step_num} / {n_steps}, Loss: {loss_:.4e}, '\n",
    "              + f'Acceptance sample: {np.mean(px_):.2f}, LR: {lr_:.5f}, '\n",
    "              + f'temp: {temp:.5f}')\n",
    "        if t % 200 == 0:\n",
    "            temp *= 0.98\n",
    "    if t % 5000 == 0:\n",
    "        step_num = global_step.eval(session=sess) \n",
    "        checkpoint_file = os.path.join(log_dir, 'model.ckpt')\n",
    "        print(f'Saving checkpoint to: {checkpoint_file}')\n",
    "        saver.save(sess, checkpoint_file)\n",
    "        \n",
    "time2 = time.time()\n",
    "dt1 = time2 - time1\n",
    "print(f'Time to train sampler for {n_steps//2} was {dt1} seconds')"
   ]
  },
  {
   "cell_type": "markdown",
   "metadata": {},
   "source": [
    "After training, we generate $200$ chains for $2000$ steps for evaluation purposes."
   ]
  },
  {
   "cell_type": "code",
   "execution_count": 21,
   "metadata": {
    "ExecuteTime": {
     "end_time": "2018-06-19T16:38:03.662999Z",
     "start_time": "2018-06-19T16:37:35.314731Z"
    }
   },
   "outputs": [],
   "source": [
    "final_samples = []\n",
    "samples1 = distribution.get_samples(n=n_samples)\n",
    "\n",
    "for t in range(2000):\n",
    "    final_samples.append(np.copy(samples1))\n",
    "\n",
    "    feed_dict = {\n",
    "        x: samples1, dynamics.temperature: 1.0,\n",
    "    }\n",
    "\n",
    "    samples1 = sess.run(output[0], feed_dict)\n",
    "\n",
    "np.save('mogsamples1_with_temp', np.array(final_samples))\n",
    "L2HMC_samples = np.array(final_samples)"
   ]
  },
  {
   "cell_type": "markdown",
   "metadata": {
    "heading_collapsed": true
   },
   "source": [
    "## Try generic HMC"
   ]
  },
  {
   "cell_type": "markdown",
   "metadata": {
    "hidden": true
   },
   "source": [
    "We compute the HMC chains with **auto-correlation spectrums** as well."
   ]
  },
  {
   "cell_type": "code",
   "execution_count": null,
   "metadata": {
    "ExecuteTime": {
     "end_time": "2018-06-18T14:12:37.928116Z",
     "start_time": "2018-06-18T14:12:15.881692Z"
    },
    "hidden": true
   },
   "outputs": [],
   "source": [
    "HMC_samples_0 = get_hmc_samples(2, 0.1, distribution.get_energy_function(), sess, steps=2000, samples=samples)"
   ]
  },
  {
   "cell_type": "code",
   "execution_count": null,
   "metadata": {
    "ExecuteTime": {
     "end_time": "2018-06-18T13:29:35.621670Z",
     "start_time": "2018-06-18T13:28:44.780470Z"
    },
    "hidden": true
   },
   "outputs": [],
   "source": [
    "HMC_samples_1 = get_hmc_samples(2, 0.2, distribution.get_energy_function(), sess, steps=2000, samples=samples)\n",
    "HMC_samples_2 = get_hmc_samples(2, 0.3, distribution.get_energy_function(), sess, steps=2000, samples=samples)\n",
    "HMC_samples_3 = get_hmc_samples(2, 0.5, distribution.get_energy_function(), sess, steps=2000, samples=samples)"
   ]
  },
  {
   "cell_type": "code",
   "execution_count": null,
   "metadata": {
    "ExecuteTime": {
     "end_time": "2018-06-18T14:13:11.800845Z",
     "start_time": "2018-06-18T14:12:47.217011Z"
    },
    "hidden": true
   },
   "outputs": [],
   "source": [
    "HMC0 = acl_spectrum(HMC_samples_0, scale=scale)"
   ]
  },
  {
   "cell_type": "code",
   "execution_count": null,
   "metadata": {
    "ExecuteTime": {
     "end_time": "2018-06-18T13:34:55.353368Z",
     "start_time": "2018-06-18T13:32:41.073342Z"
    },
    "hidden": true
   },
   "outputs": [],
   "source": [
    "scale = np.sqrt(np.trace(covs))\n",
    "L2HMC = acl_spectrum(L2HMC_samples, scale=scale)\n",
    "HMC1 = acl_spectrum(HMC_samples_1, scale=scale)\n",
    "HMC2 = acl_spectrum(HMC_samples_2, scale=scale)\n",
    "HMC3 = acl_spectrum(HMC_samples_3, scale=scale)"
   ]
  },
  {
   "cell_type": "markdown",
   "metadata": {
    "hidden": true
   },
   "source": [
    "We can plot auto-correlation."
   ]
  },
  {
   "cell_type": "code",
   "execution_count": null,
   "metadata": {
    "ExecuteTime": {
     "end_time": "2018-06-18T14:13:35.070511Z",
     "start_time": "2018-06-18T14:13:32.776181Z"
    },
    "hidden": true,
    "scrolled": false
   },
   "outputs": [],
   "source": [
    "xaxis = 10 * np.arange(300)\n",
    "fig, ax = plt.subplots()\n",
    "ax.plot(xaxis, L2HMC[:300]/max(L2HMC[:300]), label='L2HMC')\n",
    "ax.plot(xaxis, HMC0[:300]/max(HMC0[:300]), label='HMC $\\epsilon=0.1$')\n",
    "ax.plot(xaxis, HMC1[:300]/max(HMC1[:300]), label='HMC $\\epsilon=0.2$')\n",
    "ax.plot(xaxis, HMC2[:300]/max(HMC2[:300]), label='HMC $\\epsilon=0.3$')\n",
    "ax.plot(xaxis, HMC3[:300]/max(HMC3[:300]), label='HMC $\\epsilon=0.5$')\n",
    "ax.set_ylabel('Auto-correlation')\n",
    "ax.set_xlabel('Gradient Computations')\n",
    "#ax.set_xlim((0, 200))\n",
    "ax.legend()\n",
    "fig.tight_layout()\n",
    "fig.savefig('./auto_correlation_vs_grad_comps_MoG_mixed.png', \n",
    "            dpi=400, bbox_inches='tight')\n",
    "plt.show()"
   ]
  },
  {
   "cell_type": "markdown",
   "metadata": {
    "hidden": true
   },
   "source": [
    "We now compute the **Effective Sample Size** (ESS)."
   ]
  },
  {
   "cell_type": "code",
   "execution_count": null,
   "metadata": {
    "ExecuteTime": {
     "end_time": "2018-06-12T16:36:36.208809Z",
     "start_time": "2018-06-12T16:36:36.149464Z"
    },
    "hidden": true
   },
   "outputs": [],
   "source": [
    "print('ESS L2HMC: %.2e -- ESS HMC: %.2e -- Ratio: %d' % (ESS(L2HMC), ESS(HMC2), ESS(L2HMC) / ESS(HMC2)))"
   ]
  },
  {
   "cell_type": "markdown",
   "metadata": {
    "hidden": true
   },
   "source": [
    "We can visualize a single chain of both HMC and L2HMC for $500$ time steps.\n"
   ]
  },
  {
   "cell_type": "code",
   "execution_count": null,
   "metadata": {
    "ExecuteTime": {
     "end_time": "2018-06-18T14:15:24.043164Z",
     "start_time": "2018-06-18T14:15:21.913493Z"
    },
    "hidden": true
   },
   "outputs": [],
   "source": [
    "fig, ax = plt.subplots()\n",
    "ax.plot(HMC_samples_0[:100, 1, 0], HMC_samples_0[:100, 1, 1], \n",
    "         color='C1', marker='o', alpha=0.8, ls='-')\n",
    "ax.set_title(\"Single chain of HMC $(\\epsilon = 0.1)$ for 1000 time steps\")\n",
    "fig.tight_layout()\n",
    "fig.savefig('./MoG_HMC_chain_e01_100t_1.png', dpi=400, bbox_inches='tight')\n",
    "plt.show()"
   ]
  },
  {
   "cell_type": "markdown",
   "metadata": {},
   "source": [
    "## Intermediate L2HMC MCMC chains (after 5000 training steps)"
   ]
  },
  {
   "cell_type": "code",
   "execution_count": 23,
   "metadata": {
    "ExecuteTime": {
     "end_time": "2018-06-19T16:40:19.723164Z",
     "start_time": "2018-06-19T16:40:17.411052Z"
    },
    "scrolled": false
   },
   "outputs": [
    {
     "data": {
      "text/plain": [
       "<matplotlib.collections.PathCollection at 0x14a4fbba8>"
      ]
     },
     "execution_count": 23,
     "metadata": {},
     "output_type": "execute_result"
    },
    {
     "data": {
      "text/plain": [
       "[<matplotlib.lines.Line2D at 0x133c51dd8>]"
      ]
     },
     "execution_count": 23,
     "metadata": {},
     "output_type": "execute_result"
    },
    {
     "data": {
      "image/png": "[encoded data removed]",
      "text/plain": [
       "<matplotlib.figure.Figure at 0x14d40a400>"
      ]
     },
     "metadata": {},
     "output_type": "display_data"
    }
   ],
   "source": [
    "#%matplotlib inline\n",
    "#for i in range(10, 20):\n",
    "#    print(f'i: {i}')\n",
    "fig, ax = plt.subplots()\n",
    "ax.scatter(init_samples[:,0], init_samples[:,1], color='C0')\n",
    "ax.plot(L2HMC_samples[:, -i, 0], L2HMC_samples[:, -i, 1], \n",
    "        marker='o', color='C1', alpha=0.8)\n",
    "plt.show()\n",
    "fig.tight_layout()\n",
    "out_file = './2D_MoG_trajectory_2000t_10000train_4.png'\n",
    "fig.savefig(out_file, dpi=400, bbox_inches='tight')"
   ]
  }
 ],
 "metadata": {
  "gist": {
   "data": {
    "description": "ANL/l2hmc_py3/l2hmc/MOGExperiment.ipynb",
    "public": true
   },
   "id": ""
  },
  "hide_input": false,
  "kernelspec": {
   "display_name": "Python 3",
   "language": "python",
   "name": "python3"
  },
  "language_info": {
   "codemirror_mode": {
    "name": "ipython",
    "version": 3
   },
   "file_extension": ".py",
   "mimetype": "text/x-python",
   "name": "python",
   "nbconvert_exporter": "python",
   "pygments_lexer": "ipython3",
   "version": "3.6.5"
  },
  "latex_envs": {
   "LaTeX_envs_menu_present": true,
   "bibliofile": "biblio.bib",
   "cite_by": "apalike",
   "current_citInitial": 1,
   "eqLabelWithNumbers": true,
   "eqNumInitial": 1,
   "labels_anchors": false,
   "latex_user_defs": false,
   "report_style_numbering": false,
   "user_envs_cfg": false
  }
 },
 "nbformat": 4,
 "nbformat_minor": 2
}
