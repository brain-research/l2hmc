{
 "cells": [
  {
   "cell_type": "code",
   "execution_count": 1,
   "metadata": {
    "ExecuteTime": {
     "end_time": "2018-08-13T23:13:22.703517Z",
     "start_time": "2018-08-13T23:13:22.259359Z"
    }
   },
   "outputs": [],
   "source": [
    "import matplotlib.pyplot as plt"
   ]
  },
  {
   "cell_type": "code",
   "execution_count": 1,
   "metadata": {
    "ExecuteTime": {
     "end_time": "2018-08-13T21:56:58.916756Z",
     "start_time": "2018-08-13T21:56:49.350465Z"
    }
   },
   "outputs": [],
   "source": [
    "from mog_experiment import *"
   ]
  },
  {
   "cell_type": "code",
   "execution_count": 3,
   "metadata": {
    "ExecuteTime": {
     "end_time": "2018-08-13T21:58:15.074733Z",
     "start_time": "2018-08-13T21:58:15.012707Z"
    }
   },
   "outputs": [],
   "source": [
    "X_DIM = 2\n",
    "NUM_DISTRIBUTIONS = 2\n",
    "\n",
    "MEANS = np.zeros((X_DIM, X_DIM), dtype=np.float32)\n",
    "CENTERS = np.sqrt(2)  # center of Gaussian\n",
    "for i in range(NUM_DISTRIBUTIONS):\n",
    "    MEANS[i::NUM_DISTRIBUTIONS, i] = CENTERS\n",
    "\n",
    "params = {                          # default parameter values\n",
    "    'x_dim': X_DIM,\n",
    "    'num_distributions': NUM_DISTRIBUTIONS,\n",
    "    'lr_init': 1e-3,\n",
    "    'temp_init': 40,\n",
    "    'annealing_rate': 0.98,\n",
    "    'eps': 0.3,\n",
    "    'scale': 0.1,\n",
    "    'num_samples': 200,\n",
    "    'train_trajectory_length': 2000,\n",
    "    'means': MEANS,\n",
    "    'sigma': 0.05,\n",
    "    'small_pi': 2E-16,\n",
    "    'num_training_steps': 20000,\n",
    "    'annealing_steps': 200,\n",
    "    'tunneling_rate_steps': 500,\n",
    "    'lr_decay_steps': 1000,\n",
    "    'save_steps': 2500,\n",
    "    'logging_steps': 100\n",
    "}"
   ]
  },
  {
   "cell_type": "code",
   "execution_count": 4,
   "metadata": {
    "ExecuteTime": {
     "end_time": "2018-08-13T21:58:29.705008Z",
     "start_time": "2018-08-13T21:58:29.626403Z"
    }
   },
   "outputs": [
    {
     "name": "stdout",
     "output_type": "stream",
     "text": [
      "Creating directory for new run: ./log_mog_tf/run224/\n"
     ]
    }
   ],
   "source": [
    "model = GaussianMixtureModel(params)"
   ]
  },
  {
   "cell_type": "code",
   "execution_count": null,
   "metadata": {
    "ExecuteTime": {
     "start_time": "2018-08-13T21:59:47.755Z"
    }
   },
   "outputs": [
    {
     "name": "stdout",
     "output_type": "stream",
     "text": [
      "params file written to: ./log_mog_tf/run224/run_info/parameters.txt\n",
      "Step: 0 / 20000, Loss: -2.0449e+02, Acceptance sample: 0.91, LR: 0.00100, temp: 40.00000\n",
      " \n",
      "Step: 100 / 20000, Loss: -2.8194e+02, Acceptance sample: 0.95, LR: 0.00100, temp: 39.20000\n",
      " \n",
      "Step: 200 / 20000, Loss: -3.0042e+02, Acceptance sample: 0.95, LR: 0.00100, temp: 39.20000\n",
      " \n",
      "Step: 300 / 20000, Loss: -3.1131e+02, Acceptance sample: 0.94, LR: 0.00100, temp: 38.41600\n",
      " \n",
      "Step: 400 / 20000, Loss: -2.9315e+02, Acceptance sample: 0.95, LR: 0.00100, temp: 38.41600\n",
      " \n",
      "\n",
      "\tStep: 499, Tunneling rate avg: 2.251e-05, Tunneling rate err: 3.839e-08, temp: 37.6\n",
      "\tTime to calculate tunneling_rate: 00:00:32\n",
      "\tTime for 100 training steps: 00:00:26\n",
      "\tTotal time elapsed: 00:02:13\n",
      "\n",
      "Saving figure to: ./log_mog_tf/run224/figures/tunneling_rate_500.pdf\n",
      "\n",
      "Step: 500 / 20000, Loss: -3.1589e+02, Acceptance sample: 0.94, LR: 0.00100, temp: 37.64768\n",
      " \n",
      "Step: 600 / 20000, Loss: -3.0400e+02, Acceptance sample: 0.95, LR: 0.00100, temp: 37.64768\n",
      " \n",
      "Step: 700 / 20000, Loss: -2.8045e+02, Acceptance sample: 0.93, LR: 0.00100, temp: 36.89473\n",
      " \n",
      "Step: 800 / 20000, Loss: -2.9774e+02, Acceptance sample: 0.95, LR: 0.00100, temp: 36.89473\n",
      " \n",
      "Step: 900 / 20000, Loss: -3.1941e+02, Acceptance sample: 0.95, LR: 0.00100, temp: 36.15683\n",
      " \n",
      "\n",
      "\tStep: 999, Tunneling rate avg: 2.501e-05, Tunneling rate err: 5.593e-08, temp: 36.2\n",
      "\tTime to calculate tunneling_rate: 00:00:35\n",
      "\tTime for 100 training steps: 00:00:24\n",
      "\tTotal time elapsed: 00:04:08\n",
      "\n",
      "Saving figure to: ./log_mog_tf/run224/figures/tunneling_rate_1000.pdf\n",
      "\n",
      "Step: 1000 / 20000, Loss: -2.9847e+02, Acceptance sample: 0.94, LR: 0.00096, temp: 36.15683\n",
      " \n",
      "Step: 1100 / 20000, Loss: -2.9080e+02, Acceptance sample: 0.95, LR: 0.00096, temp: 35.43370\n",
      " \n",
      "Step: 1200 / 20000, Loss: -3.0127e+02, Acceptance sample: 0.94, LR: 0.00096, temp: 35.43370\n",
      " \n",
      "Step: 1300 / 20000, Loss: -3.0631e+02, Acceptance sample: 0.94, LR: 0.00096, temp: 34.72502\n",
      " \n",
      "Step: 1400 / 20000, Loss: -3.1636e+02, Acceptance sample: 0.95, LR: 0.00096, temp: 34.72502\n",
      " \n"
     ]
    }
   ],
   "source": [
    "config = tf.ConfigProto(log_device_placement=True)\n",
    "config.gpu_options.allow_growth = True\n",
    "model.build_graph()\n",
    "model.train(params['num_training_steps'], config=config)"
   ]
  }
 ],
 "metadata": {
  "hide_input": false,
  "kernelspec": {
   "display_name": "Python 3",
   "language": "python",
   "name": "python3"
  },
  "language_info": {
   "codemirror_mode": {
    "name": "ipython",
    "version": 3
   },
   "file_extension": ".py",
   "mimetype": "text/x-python",
   "name": "python",
   "nbconvert_exporter": "python",
   "pygments_lexer": "ipython3",
   "version": "3.6.5"
  },
  "latex_envs": {
   "LaTeX_envs_menu_present": true,
   "bibliofile": "biblio.bib",
   "cite_by": "apalike",
   "current_citInitial": 1,
   "eqLabelWithNumbers": true,
   "eqNumInitial": 1,
   "labels_anchors": false,
   "latex_user_defs": false,
   "report_style_numbering": false,
   "user_envs_cfg": false
  }
 },
 "nbformat": 4,
 "nbformat_minor": 2
}
